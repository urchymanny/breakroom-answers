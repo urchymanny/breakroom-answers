{
 "cells": [
  {
   "cell_type": "code",
   "execution_count": 1,
   "metadata": {},
   "outputs": [
    {
     "data": {
      "text/plain": [
       "0"
      ]
     },
     "execution_count": 1,
     "metadata": {},
     "output_type": "execute_result"
    }
   ],
   "source": [
    "$answer = {\n",
    "  enjoys_job: \"yes\",\n",
    "  respected_by_managers: \"no\",\n",
    "  good_for_carers: \"yes\",\n",
    "  contracted_hours: 20,\n",
    "  hours_actually_worked: 34,\n",
    "  unpaid_extra_work: \"unsure\",\n",
    "  age: 26,\n",
    "  hourly_rate: 8.22,\n",
    "  submitted_date: 1608211454000\n",
    "}\n",
    "\n",
    "# to count score and valid items\n",
    "$valid_items = 0\n",
    "$score = 0"
   ]
  },
  {
   "cell_type": "code",
   "execution_count": 2,
   "metadata": {},
   "outputs": [
    {
     "data": {
      "text/plain": [
       ":check_texty_response"
      ]
     },
     "execution_count": 2,
     "metadata": {},
     "output_type": "execute_result"
    }
   ],
   "source": [
    "# check \"yes\" or \"no\" values and increment counters\n",
    "\n",
    "def check_texty_response(item, good_response=\"yes\")\n",
    "  $valid_items += 1\n",
    "  $score += 1 if $answer[item] == good_response\n",
    "end"
   ]
  },
  {
   "cell_type": "code",
   "execution_count": 3,
   "metadata": {},
   "outputs": [
    {
     "data": {
      "text/plain": [
       "2"
      ]
     },
     "execution_count": 3,
     "metadata": {},
     "output_type": "execute_result"
    }
   ],
   "source": [
    "# check yes or no for some params\n",
    "check_texty_response(:enjoys_job)\n",
    "check_texty_response(:respected_by_managers)\n",
    "check_texty_response(:good_for_carers)"
   ]
  },
  {
   "cell_type": "code",
   "execution_count": 4,
   "metadata": {},
   "outputs": [
    {
     "data": {
      "text/plain": [
       "[2, 3]"
      ]
     },
     "execution_count": 4,
     "metadata": {},
     "output_type": "execute_result"
    }
   ],
   "source": [
    "[$score, $valid_items] # print"
   ]
  },
  {
   "cell_type": "code",
   "execution_count": 5,
   "metadata": {},
   "outputs": [],
   "source": [
    "# for work hours\n",
    "$valid_items += 1\n",
    "\n",
    "# if user has NOT done overtime more than the max overtime hours, add score\n",
    "if ($answer[:hours_actually_worked] - $answer[:contracted_hours]) <= 8\n",
    "  $score += 1\n",
    "end"
   ]
  },
  {
   "cell_type": "code",
   "execution_count": 6,
   "metadata": {},
   "outputs": [
    {
     "data": {
      "text/plain": [
       "[2, 4]"
      ]
     },
     "execution_count": 6,
     "metadata": {},
     "output_type": "execute_result"
    }
   ],
   "source": [
    "[$score, $valid_items] #pritn"
   ]
  },
  {
   "cell_type": "code",
   "execution_count": 7,
   "metadata": {},
   "outputs": [
    {
     "data": {
      "text/plain": [
       "3"
      ]
     },
     "execution_count": 7,
     "metadata": {},
     "output_type": "execute_result"
    }
   ],
   "source": [
    "# say minimum wage is 8 pounds\n",
    "$score += 1 if $answer[:hourly_rate] >= 8.0"
   ]
  },
  {
   "cell_type": "code",
   "execution_count": 8,
   "metadata": {},
   "outputs": [
    {
     "data": {
      "text/plain": [
       "[3, 4]"
      ]
     },
     "execution_count": 8,
     "metadata": {},
     "output_type": "execute_result"
    }
   ],
   "source": [
    "[$score, $valid_items]"
   ]
  },
  {
   "cell_type": "code",
   "execution_count": 9,
   "metadata": {},
   "outputs": [
    {
     "data": {
      "text/plain": [
       "[3, 5]"
      ]
     },
     "execution_count": 9,
     "metadata": {},
     "output_type": "execute_result"
    }
   ],
   "source": [
    "# finally check for nil or \"unsure\" values on unpaid extra work\n",
    "$valid_items += 1\n",
    "v = $answer[:unpaid_extra_work]\n",
    "$score += 1 unless v.nil? || v == \"unsure\"\n",
    "\n",
    "[$score, $valid_items]"
   ]
  }
 ],
 "metadata": {
  "kernelspec": {
   "display_name": "Ruby 3 (iruby kernel)",
   "language": "ruby",
   "name": "ruby3"
  },
  "language_info": {
   "file_extension": ".rb",
   "mimetype": "application/x-ruby",
   "name": "ruby",
   "version": "3.2.1"
  }
 },
 "nbformat": 4,
 "nbformat_minor": 2
}
